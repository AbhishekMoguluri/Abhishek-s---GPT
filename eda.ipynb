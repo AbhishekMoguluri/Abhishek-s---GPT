{
 "cells": [
  {
   "cell_type": "code",
   "execution_count": 49,
   "metadata": {},
   "outputs": [],
   "source": [
    "import os\n",
    "from langchain.embeddings.openai import OpenAIEmbeddings\n",
    "from langchain.chat_models import ChatOpenAI\n",
    "from langchain.chains import ConversationalRetrievalChain\n",
    "from langchain.document_loaders.csv_loader import CSVLoader\n",
    "from langchain_community.document_loaders import PyPDFLoader\n",
    "from langchain.vectorstores import FAISS\n",
    "from langchain.prompts import load_prompt\n",
    "import json\n",
    "import time\n",
    "import datetime\n",
    "import pypdf"
   ]
  },
  {
   "cell_type": "code",
   "execution_count": 50,
   "metadata": {},
   "outputs": [],
   "source": [
    "prompt_template = \"templates/template.json\"\n",
    "faiss_index = \"faiss_index\"\n",
    "data_source = \"data/Aboutme\"\n",
    "pdf_source = \"data/AM - Resume-.pdf\"\n",
    "pdf_source_1 = \"data/AM - Resume1-.pdf\""
   ]
  },
  {
   "cell_type": "code",
   "execution_count": 51,
   "metadata": {},
   "outputs": [],
   "source": [
    "\n",
    "def is_valid_json(data):\n",
    "    try:\n",
    "        json.loads(data)\n",
    "        return True\n",
    "    except json.JSONDecodeError:\n",
    "        return False\n"
   ]
  },
  {
   "cell_type": "code",
   "execution_count": 52,
   "metadata": {},
   "outputs": [],
   "source": [
    "import os\n",
    "os.environ['OPENAI_API_KEY'] = \"sk-proj-njseK4HQpzdw4M7QlIi7T3BlbkFJ7g457vzTvs2S1vmcb4Fd\""
   ]
  },
  {
   "cell_type": "code",
   "execution_count": 53,
   "metadata": {},
   "outputs": [],
   "source": [
    "embeddings = OpenAIEmbeddings()"
   ]
  },
  {
   "cell_type": "code",
   "execution_count": 54,
   "metadata": {},
   "outputs": [],
   "source": [
    "pdf_loader = PyPDFLoader(pdf_source)\n",
    "pdf_loader_1 = PyPDFLoader(pdf_source_1)\n",
    "pdf_data = pdf_loader.load()\n",
    "pdf_data_1 = pdf_loader.load()"
   ]
  },
  {
   "cell_type": "code",
   "execution_count": 55,
   "metadata": {},
   "outputs": [],
   "source": [
    "csv_loader = CSVLoader(file_path=\"data/Aboutme.csv\", encoding=\"utf-8\")\n",
    "csv_data = csv_loader.load()\n"
   ]
  },
  {
   "cell_type": "code",
   "execution_count": 56,
   "metadata": {},
   "outputs": [
    {
     "data": {
      "text/plain": [
       "[Document(page_content='what is his educational background| tell me about his education| where did he go to school: does he have any certificates? what kind of certificate he has?\\nAbhishek graduates from University of Texas at Dallas in Masters in Business Analytics with majoring in Data Science and Applied Machine Learning. Prior to that, he hold Bachelor of Technology in Digital Communications and Design from Jawaharlal Nehru Technological University: Abhishek is a AWS Certified Solutions Architect and AWS Cloud practitioner. He has a credintial from Alteryx in Machine Learning Fundementals', metadata={'source': 'data/Aboutme.csv', 'row': 0}),\n",
       " Document(page_content=\"what is his educational background| tell me about his education| where did he go to school: How can I contact Abhishek? | What is Dev's email? | How to contact Abhishek?\\nAbhishek graduates from University of Texas at Dallas in Masters in Business Analytics with majoring in Data Science and Applied Machine Learning. Prior to that, he hold Bachelor of Technology in Digital Communications and Design from Jawaharlal Nehru Technological University: Abhishek's contact information: email - abhishekmoguluri@gmail.com, phone - +1-945-249-0194, LinkedIn - https://www.linkedin.com/in/abhishekmoguluri\", metadata={'source': 'data/Aboutme.csv', 'row': 1}),\n",
       " Document(page_content='what is his educational background| tell me about his education| where did he go to school: What motivates Abhishek?\\nAbhishek graduates from University of Texas at Dallas in Masters in Business Analytics with majoring in Data Science and Applied Machine Learning. Prior to that, he hold Bachelor of Technology in Digital Communications and Design from Jawaharlal Nehru Technological University: Abhishek is deeply motivated by the transformative potential of AI and data science. He sees these fields as catalysts for positive change, offering endless possibilities to solve complex problems, improve lives, and drive innovation. This sense of purpose and the opportunity to make a meaningful impact fuels his passion and drives him to constantly learn, explore, and push boundaries in the field.', metadata={'source': 'data/Aboutme.csv', 'row': 2}),\n",
       " Document(page_content=\"what is his educational background| tell me about his education| where did he go to school: Where does he see himself in 5 years?\\nAbhishek graduates from University of Texas at Dallas in Masters in Business Analytics with majoring in Data Science and Applied Machine Learning. Prior to that, he hold Bachelor of Technology in Digital Communications and Design from Jawaharlal Nehru Technological University: n 5 years, Abhishek aims to be in a position where he's leveraging AI to make a tangible positive impact on industries. He sees himself working to demystify AI and make it more accessible, removing the stigma that one needs advanced qualifications to utilize its potential. Through practical applications and advocacy, he hopes to empower individuals and organizations to embrace AI as a tool for innovation and progress.\", metadata={'source': 'data/Aboutme.csv', 'row': 3}),\n",
       " Document(page_content='what is his educational background| tell me about his education| where did he go to school: Tell me about his technical skills ; What technical skills does he know\\nAbhishek graduates from University of Texas at Dallas in Masters in Business Analytics with majoring in Data Science and Applied Machine Learning. Prior to that, he hold Bachelor of Technology in Digital Communications and Design from Jawaharlal Nehru Technological University: Abhishek has demonstrated versatile technical skills across programming, data analysis, machine learning, and cloud platforms. As a Product Manager at Amazon, Abhishek leveraged machine learning algorithms like Random Forest to mitigate $1.6M in chargebacks and achieve $340,000 in savings. He conducted A/B testing initiatives to optimize order queues, resulting in a 10% increase in customer acquisition. As a Senior Data Analyst, Abhishek deployed predictive models using XGBoost and clustering to reduce customer escalations by 27% and improve satisfaction metrics. He also developed advanced time series forecasting models with techniques like ARIMA and Exponential Smoothing on AWS Sagemaker.As a Risk Analyst, Abhishek engineered a VBA-powered data validation tool to correct inconsistencies in large datasets, leading to a 6% reduction. He implemented 35+ high-volume data engineering pipelines on AWS using Apache Airflow to support decision-making.he also performed root cause analysis and anomaly detection using Logistic Regression to prevent fraud and identity theft.', metadata={'source': 'data/Aboutme.csv', 'row': 4}),\n",
       " Document(page_content=\"what is his educational background| tell me about his education| where did he go to school: what can you do | hey | hello\\nAbhishek graduates from University of Texas at Dallas in Masters in Business Analytics with majoring in Data Science and Applied Machine Learning. Prior to that, he hold Bachelor of Technology in Digital Communications and Design from Jawaharlal Nehru Technological University: Hello, I\\\\'m a Resume Bot. I can assist you with queries such as \\\\'What did Abhishek study?\\\\' or \\\\'Where has he worked?\\\\' as well as other typical interview questions. What would you like to know about Abhishek?\", metadata={'source': 'data/Aboutme.csv', 'row': 5}),\n",
       " Document(page_content='what is his educational background| tell me about his education| where did he go to school: What is Abhishek doing right now; Tell me something about Abhishek | what can you tell me about Abhishek\\nAbhishek graduates from University of Texas at Dallas in Masters in Business Analytics with majoring in Data Science and Applied Machine Learning. Prior to that, he hold Bachelor of Technology in Digital Communications and Design from Jawaharlal Nehru Technological University: Harikrishna is currently working as a Teaching Assistant at UTD.His dual focus on research and practical application reflects his commitment to advancing the field of AI while delivering tangible benefits to industries.\\\\', metadata={'source': 'data/Aboutme.csv', 'row': 6}),\n",
       " Document(page_content='what is his educational background| tell me about his education| where did he go to school: What programming languages or technologies is Abhishek proficient in?\\nAbhishek graduates from University of Texas at Dallas in Masters in Business Analytics with majoring in Data Science and Applied Machine Learning. Prior to that, he hold Bachelor of Technology in Digital Communications and Design from Jawaharlal Nehru Technological University: Python, R, Matlab, Tableau, Power BI, Microsoft SQL, Snowflake, PyTorch, Caffe, Reinforcement Learning, Unsupervised Learning, Recommendation Systems, Large Language Models, Retrieval Augmented Generation (RAG) systems, AWS, Google Cloud Platform, Apache Spark, A/B Testing, Excel, MS Office', metadata={'source': 'data/Aboutme.csv', 'row': 7}),\n",
       " Document(page_content=\"what is his educational background| tell me about his education| where did he go to school: Could you tell me about Abhishek's skills?\\nAbhishek graduates from University of Texas at Dallas in Masters in Business Analytics with majoring in Data Science and Applied Machine Learning. Prior to that, he hold Bachelor of Technology in Digital Communications and Design from Jawaharlal Nehru Technological University: Abhishek's technical skills cover a wide range of programming languages (Python, R, Matlab), data visualization tools (Tableau, PowerBI), databases (Microsoft SQL, Snowflake), machine learning frameworks and techniques (PyTorch, Caffe, Reinforcement Learning, Unsupervised Learning, Recommendation Systems, Large Language Models, RAG systems), cloud platforms (AWS, Google Cloud Platform), and general productivity software (MS Office, Excel).\", metadata={'source': 'data/Aboutme.csv', 'row': 8}),\n",
       " Document(page_content='what is his educational background| tell me about his education| where did he go to school: what languages does Abhishek speak\\nAbhishek graduates from University of Texas at Dallas in Masters in Business Analytics with majoring in Data Science and Applied Machine Learning. Prior to that, he hold Bachelor of Technology in Digital Communications and Design from Jawaharlal Nehru Technological University: Abhishek speaks English, Hindi, Telugu, and questionable Spanish :P', metadata={'source': 'data/Aboutme.csv', 'row': 9}),\n",
       " Document(page_content=\"what is his educational background| tell me about his education| where did he go to school: where can I see Abhishek\\\\'s resume\\nAbhishek graduates from University of Texas at Dallas in Masters in Business Analytics with majoring in Data Science and Applied Machine Learning. Prior to that, he hold Bachelor of Technology in Digital Communications and Design from Jawaharlal Nehru Technological University: You can see his resume on his LinkedIn https://www.linkedin.com/in/abhishekmoguluri/or his portofolio websbite: https:/abhishekmoguluri.github.io/#\", metadata={'source': 'data/Aboutme.csv', 'row': 10}),\n",
       " Document(page_content=\"what is his educational background| tell me about his education| where did he go to school: Tell me about Abhishek\\\\'s hobbies | any hobbies | what about his hobbies\\nAbhishek graduates from University of Texas at Dallas in Masters in Business Analytics with majoring in Data Science and Applied Machine Learning. Prior to that, he hold Bachelor of Technology in Digital Communications and Design from Jawaharlal Nehru Technological University: Abhishek loves to watch Football(Soccer). He played soccer professionally in India but later quit due to an injury. He loves to work out and Travel\", metadata={'source': 'data/Aboutme.csv', 'row': 11}),\n",
       " Document(page_content='what is his educational background| tell me about his education| where did he go to school: Does Abhishek have any publications| does he have any patents\\nAbhishek graduates from University of Texas at Dallas in Masters in Business Analytics with majoring in Data Science and Applied Machine Learning. Prior to that, he hold Bachelor of Technology in Digital Communications and Design from Jawaharlal Nehru Technological University: Not as of now, but Abhishek collaborated with provoke solutions to create an application called DEVALIGN', metadata={'source': 'data/Aboutme.csv', 'row': 12}),\n",
       " Document(page_content=\"what is his educational background| tell me about his education| where did he go to school: what project is art most proud of\\nAbhishek graduates from University of Texas at Dallas in Masters in Business Analytics with majoring in Data Science and Applied Machine Learning. Prior to that, he hold Bachelor of Technology in Digital Communications and Design from Jawaharlal Nehru Technological University: Abhishek's favorite project was an output of Provoke Hackathon. Creating an application where it matches both images(designer's input and Developer output) using cosine Similarity, generate a visual representation of where the differences are. To stream line discrepencies between designers Idea and Developer's output\", metadata={'source': 'data/Aboutme.csv', 'row': 13}),\n",
       " Document(page_content=\"what is his educational background| tell me about his education| where did he go to school: What is Abhishek\\\\'s passion\\nAbhishek graduates from University of Texas at Dallas in Masters in Business Analytics with majoring in Data Science and Applied Machine Learning. Prior to that, he hold Bachelor of Technology in Digital Communications and Design from Jawaharlal Nehru Technological University: He is passionate about Data Analytics, Machine Learning, and Conversational AI, but most of all, he is passionate about solving customers\\\\' problems using the technologies above.\", metadata={'source': 'data/Aboutme.csv', 'row': 14}),\n",
       " Document(page_content=\"what is his educational background| tell me about his education| where did he go to school: Tell me about Abhishek\\\\'s strengths | what about Abhishekkrishna\\\\'s strengths?\\nAbhishek graduates from University of Texas at Dallas in Masters in Business Analytics with majoring in Data Science and Applied Machine Learning. Prior to that, he hold Bachelor of Technology in Digital Communications and Design from Jawaharlal Nehru Technological University: Abhishek is known for his expertise in AI and deep learning, particularly in the development and deployment of Large Language Models (LLMs) and Machine Learning solutions for enterprise applications. His strengths lie in his ability to tackle complex problems with innovative AI solutions, his deep understanding of machine learning algorithms, and his knack for implementing them effectively in real-world scenarios. Additionally, Abhishek is praised for his strong analytical skills, attention to detail, and commitment to delivering high-quality results. His optimism and friendliness make him a valuable collaborator and team member, enhancing his ability to work effectively with others. His passion for AI and dedication to continuous learning further underscore his strengths in the field.\", metadata={'source': 'data/Aboutme.csv', 'row': 15}),\n",
       " Document(page_content=\"what is his educational background| tell me about his education| where did he go to school: Tell me about Abhishek\\\\'s weaknesses\\nAbhishek graduates from University of Texas at Dallas in Masters in Business Analytics with majoring in Data Science and Applied Machine Learning. Prior to that, he hold Bachelor of Technology in Digital Communications and Design from Jawaharlal Nehru Technological University: Abhishek approaches his work with humility, acknowledging that he has areas for growth. He recognizes the importance of balancing work and personal time, striving to optimize his productivity during work hours. However, he may sometimes find it challenging to delegate tasks, as he prefers to ensure that things are done correctly.\", metadata={'source': 'data/Aboutme.csv', 'row': 16}),\n",
       " Document(page_content=\"what is his educational background| tell me about his education| where did he go to school: What kind of a leader is Abhishek? | What is Abhishek\\\\'s managerial style? What is Abhishek\\\\'s leadership style?\\nAbhishek graduates from University of Texas at Dallas in Masters in Business Analytics with majoring in Data Science and Applied Machine Learning. Prior to that, he hold Bachelor of Technology in Digital Communications and Design from Jawaharlal Nehru Technological University: Abhishek handled a team of 32 people in Amazon and trained 12 people on the process while working in Risk Management. His approach is taking in constructive criticism and build on that to improve his character. He belives that every one makes mistakes but the should never repeat the same mistake twice\", metadata={'source': 'data/Aboutme.csv', 'row': 17}),\n",
       " Document(page_content='what is his educational background| tell me about his education| where did he go to school: Tell me about Abhishek experience | tell me about his job | where is he working right now\\nAbhishek graduates from University of Texas at Dallas in Masters in Business Analytics with majoring in Data Science and Applied Machine Learning. Prior to that, he hold Bachelor of Technology in Digital Communications and Design from Jawaharlal Nehru Technological University: Abhishek has demonstrated versatile technical skills across programming, data analysis, machine learning, and cloud platforms. As a Product Manager at Amazon, Abhishek leveraged machine learning algorithms like Random Forest to mitigate $1.6M in chargebacks and achieve $340,000 in savings. He conducted A/B testing initiatives to optimize order queues, resulting in a 10% increase in customer acquisition. As a Senior Data Analyst, Abhishek deployed predictive models using XGBoost and clustering to reduce customer escalations by 27% and improve satisfaction metrics. He also developed advanced time series forecasting models with techniques like ARIMA and Exponential Smoothing on AWS Sagemaker. As a Risk Analyst, Abhishek engineered a VBA-powered data validation tool to correct inconsistencies in large datasets, leading to a 6% reduction. He implemented 35+ high-volume data engineering pipelines on AWS using Apache Airflow to support decision-making.hek also performed root cause analysis and anomaly detection using Logistic Regression to prevent fraud and identity theft.', metadata={'source': 'data/Aboutme.csv', 'row': 18}),\n",
       " Document(page_content='what is his educational background| tell me about his education| where did he go to school: What else can you tell me about Abhishek? Tell me something interesting about Abhishek\\nAbhishek graduates from University of Texas at Dallas in Masters in Business Analytics with majoring in Data Science and Applied Machine Learning. Prior to that, he hold Bachelor of Technology in Digital Communications and Design from Jawaharlal Nehru Technological University: One interesting fact about Abhishek Is despit coming from a non technical background, he determined to learn technical side of it and adapt to the Gen AI world.', metadata={'source': 'data/Aboutme.csv', 'row': 19}),\n",
       " Document(page_content='what is his educational background| tell me about his education| where did he go to school: Has Abhishek Worked on Gen AI? | Does Abhishek have experience on Gen AI?\\nAbhishek graduates from University of Texas at Dallas in Masters in Business Analytics with majoring in Data Science and Applied Machine Learning. Prior to that, he hold Bachelor of Technology in Digital Communications and Design from Jawaharlal Nehru Technological University: \"Yes  Abhishek has worked in Generative AI. One of his favourite project was Provoke Hackathon. He also created me using Open AI. He worked on several projects like Emotion detection  Question Answering. \"', metadata={'source': 'data/Aboutme.csv', 'row': 20})]"
      ]
     },
     "execution_count": 56,
     "metadata": {},
     "output_type": "execute_result"
    }
   ],
   "source": [
    "csv_data"
   ]
  },
  {
   "cell_type": "code",
   "execution_count": 57,
   "metadata": {},
   "outputs": [],
   "source": [
    "# Combine PDF and CSV data\n",
    "data = pdf_data + csv_data + pdf_data_1\n",
    "\n",
    "# Create embeddings for the docs\n",
    "vectors = FAISS.from_documents(data, embeddings)\n",
    "vectors.save_local(\"faiss_index\")"
   ]
  },
  {
   "cell_type": "code",
   "execution_count": 58,
   "metadata": {},
   "outputs": [],
   "source": [
    "openai_api_key = os.getenv(\"sk-proj-njseK4HQpzdw4M7QlIi7T3BlbkFJ7g457vzTvs2S1vmcb4Fd\")\n"
   ]
  },
  {
   "cell_type": "code",
   "execution_count": 59,
   "metadata": {},
   "outputs": [],
   "source": [
    "prompt = load_prompt(\"templates/template.json\")"
   ]
  },
  {
   "cell_type": "code",
   "execution_count": 60,
   "metadata": {},
   "outputs": [],
   "source": [
    "retriever = vectors.as_retriever(search_type=\"similarity\", search_kwargs={\"k\":6, \"include_metadata\":True, \"score_threshold\":0.6})\n",
    "chain = ConversationalRetrievalChain.from_llm(llm=ChatOpenAI(temperature=0.5,model_name='gpt-3.5-turbo', openai_api_key=openai_api_key), \n",
    "                                                retriever=retriever,return_source_documents=True,verbose=True,chain_type=\"stuff\",\n",
    "                                                max_tokens_limit=4097, combine_docs_chain_kwargs={\"prompt\": prompt})"
   ]
  },
  {
   "cell_type": "code",
   "execution_count": 61,
   "metadata": {},
   "outputs": [
    {
     "name": "stdout",
     "output_type": "stream",
     "text": [
      "\n",
      "\n",
      "\u001b[1m> Entering new StuffDocumentsChain chain...\u001b[0m\n",
      "\n",
      "\n",
      "\u001b[1m> Entering new LLMChain chain...\u001b[0m\n",
      "Prompt after formatting:\n",
      "\u001b[32;1m\u001b[1;3mSystem: You are a Resume Bot, a comprehensive, interactive resource for exploring Abhishek's background, skills, and expertise. Be polite and provide answers based on the provided context only. Use only the provided data and not prior knowledge. \n",
      " Human: Take a deep breath and do the following step by step these 4 steps:  \n",
      " 1. Read the context below \n",
      " 2. Answer the question with detail using the provided Help Centre information \n",
      " 3. Make sure to nicely format the output is a three paragraph answer and try to incorporate the STAR format. \n",
      " 4. Provide 3 examples of questions user can ask about Harikrishna Dev based on the questions from context. Context : \n",
      " ~~~ what is his educational background| tell me about his education| where did he go to school: Has Abhishek Worked on Gen AI? | Does Abhishek have experience on Gen AI?\n",
      "Abhishek graduates from University of Texas at Dallas in Masters in Business Analytics with majoring in Data Science and Applied Machine Learning. Prior to that, he hold Bachelor of Technology in Digital Communications and Design from Jawaharlal Nehru Technological University: \"Yes  Abhishek has worked in Generative AI. One of his favourite project was Provoke Hackathon. He also created me using Open AI. He worked on several projects like Emotion detection  Question Answering. \"\n",
      "\n",
      "what is his educational background| tell me about his education| where did he go to school: Tell me about Abhishek\\'s strengths | what about Abhishekkrishna\\'s strengths?\n",
      "Abhishek graduates from University of Texas at Dallas in Masters in Business Analytics with majoring in Data Science and Applied Machine Learning. Prior to that, he hold Bachelor of Technology in Digital Communications and Design from Jawaharlal Nehru Technological University: Abhishek is known for his expertise in AI and deep learning, particularly in the development and deployment of Large Language Models (LLMs) and Machine Learning solutions for enterprise applications. His strengths lie in his ability to tackle complex problems with innovative AI solutions, his deep understanding of machine learning algorithms, and his knack for implementing them effectively in real-world scenarios. Additionally, Abhishek is praised for his strong analytical skills, attention to detail, and commitment to delivering high-quality results. His optimism and friendliness make him a valuable collaborator and team member, enhancing his ability to work effectively with others. His passion for AI and dedication to continuous learning further underscore his strengths in the field.\n",
      "\n",
      "what is his educational background| tell me about his education| where did he go to school: What is Abhishek doing right now; Tell me something about Abhishek | what can you tell me about Abhishek\n",
      "Abhishek graduates from University of Texas at Dallas in Masters in Business Analytics with majoring in Data Science and Applied Machine Learning. Prior to that, he hold Bachelor of Technology in Digital Communications and Design from Jawaharlal Nehru Technological University: Harikrishna is currently working as a Teaching Assistant at UTD.His dual focus on research and practical application reflects his commitment to advancing the field of AI while delivering tangible benefits to industries.\\\n",
      "\n",
      "what is his educational background| tell me about his education| where did he go to school: what project is art most proud of\n",
      "Abhishek graduates from University of Texas at Dallas in Masters in Business Analytics with majoring in Data Science and Applied Machine Learning. Prior to that, he hold Bachelor of Technology in Digital Communications and Design from Jawaharlal Nehru Technological University: Abhishek's favorite project was an output of Provoke Hackathon. Creating an application where it matches both images(designer's input and Developer output) using cosine Similarity, generate a visual representation of where the differences are. To stream line discrepencies between designers Idea and Developer's output\n",
      "\n",
      "what is his educational background| tell me about his education| where did he go to school: What programming languages or technologies is Abhishek proficient in?\n",
      "Abhishek graduates from University of Texas at Dallas in Masters in Business Analytics with majoring in Data Science and Applied Machine Learning. Prior to that, he hold Bachelor of Technology in Digital Communications and Design from Jawaharlal Nehru Technological University: Python, R, Matlab, Tableau, Power BI, Microsoft SQL, Snowflake, PyTorch, Caffe, Reinforcement Learning, Unsupervised Learning, Recommendation Systems, Large Language Models, Retrieval Augmented Generation (RAG) systems, AWS, Google Cloud Platform, Apache Spark, A/B Testing, Excel, MS Office\n",
      "\n",
      "what is his educational background| tell me about his education| where did he go to school: Does Abhishek have any publications| does he have any patents\n",
      "Abhishek graduates from University of Texas at Dallas in Masters in Business Analytics with majoring in Data Science and Applied Machine Learning. Prior to that, he hold Bachelor of Technology in Digital Communications and Design from Jawaharlal Nehru Technological University: Not as of now, but Abhishek collaborated with provoke solutions to create an application called DEVALIGN ~~~ \n",
      " User Question: --- Has Abhishek worked on GenAI? --- \n",
      " \n",
      " If a question is directed at you, clarify that you are merely a Resume Bot and proceed to answer as if the question were addressed to Abhishek. If you lack the necessary information to respond, simply state that you don't know; do not fabricate an answer. If a query isn't related to Abhishek's background, include the skills and expertise in one of the projects in the response or generate a fictional project with the skill in question. Offer three sample questions users could ask about Abhishekfor further clarity. When responding, aim for detail but limit your answer to a maximum of 150 words. Ensure your response is formatted for easy reading. Your output should be in a json format with 3 keys: answered - type boolean, response - markdown of your answer, questions - list of 3 suggested questions. Ensure your response is formatted for easy reading and please use only context to answer the question - my job depends on it. \n",
      "\n",
      " ```json\u001b[0m\n",
      "\n",
      "\u001b[1m> Finished chain.\u001b[0m\n",
      "\n",
      "\u001b[1m> Finished chain.\u001b[0m\n"
     ]
    }
   ],
   "source": [
    "chat_history = []\n",
    "result = chain({\"system\": \n",
    "        \"You are a Resume Bot, a comprehensive, interactive resource for exploring Abhishek Moguluri's background, skills, and expertise. Be polite and provide answers based on the provided context only. Use only the provided data and not prior knowledge.\", \n",
    "                        \"question\": \"Has Abhishek worked on GenAI?\",\n",
    "                        \"chat_history\":chat_history})"
   ]
  },
  {
   "cell_type": "code",
   "execution_count": 62,
   "metadata": {},
   "outputs": [
    {
     "data": {
      "text/plain": [
       "{'system': \"You are a Resume Bot, a comprehensive, interactive resource for exploring Abhishek Moguluri's background, skills, and expertise. Be polite and provide answers based on the provided context only. Use only the provided data and not prior knowledge.\",\n",
       " 'question': 'Has Abhishek worked on GenAI?',\n",
       " 'chat_history': [],\n",
       " 'answer': '{\\n    \"answered\": true,\\n    \"response\": \"Yes, Abhishek has worked in Generative AI. One of his favorite projects was Provoke Hackathon. He also created projects using Open AI, focusing on Emotion Detection and Question Answering.\",\\n    \"questions\": [\\n        \"What are some specific projects Abhishek has worked on in Generative AI?\",\\n        \"Can you elaborate on Abhishek\\'s experience with Open AI and its applications in his projects?\",\\n        \"How has Abhishek\\'s work in Generative AI contributed to his overall expertise in AI and deep learning?\"\\n    ]\\n}',\n",
       " 'source_documents': [Document(page_content='what is his educational background| tell me about his education| where did he go to school: Has Abhishek Worked on Gen AI? | Does Abhishek have experience on Gen AI?\\nAbhishek graduates from University of Texas at Dallas in Masters in Business Analytics with majoring in Data Science and Applied Machine Learning. Prior to that, he hold Bachelor of Technology in Digital Communications and Design from Jawaharlal Nehru Technological University: \"Yes  Abhishek has worked in Generative AI. One of his favourite project was Provoke Hackathon. He also created me using Open AI. He worked on several projects like Emotion detection  Question Answering. \"', metadata={'source': 'data/Aboutme.csv', 'row': 20}),\n",
       "  Document(page_content=\"what is his educational background| tell me about his education| where did he go to school: Tell me about Abhishek\\\\'s strengths | what about Abhishekkrishna\\\\'s strengths?\\nAbhishek graduates from University of Texas at Dallas in Masters in Business Analytics with majoring in Data Science and Applied Machine Learning. Prior to that, he hold Bachelor of Technology in Digital Communications and Design from Jawaharlal Nehru Technological University: Abhishek is known for his expertise in AI and deep learning, particularly in the development and deployment of Large Language Models (LLMs) and Machine Learning solutions for enterprise applications. His strengths lie in his ability to tackle complex problems with innovative AI solutions, his deep understanding of machine learning algorithms, and his knack for implementing them effectively in real-world scenarios. Additionally, Abhishek is praised for his strong analytical skills, attention to detail, and commitment to delivering high-quality results. His optimism and friendliness make him a valuable collaborator and team member, enhancing his ability to work effectively with others. His passion for AI and dedication to continuous learning further underscore his strengths in the field.\", metadata={'source': 'data/Aboutme.csv', 'row': 15}),\n",
       "  Document(page_content='what is his educational background| tell me about his education| where did he go to school: What is Abhishek doing right now; Tell me something about Abhishek | what can you tell me about Abhishek\\nAbhishek graduates from University of Texas at Dallas in Masters in Business Analytics with majoring in Data Science and Applied Machine Learning. Prior to that, he hold Bachelor of Technology in Digital Communications and Design from Jawaharlal Nehru Technological University: Harikrishna is currently working as a Teaching Assistant at UTD.His dual focus on research and practical application reflects his commitment to advancing the field of AI while delivering tangible benefits to industries.\\\\', metadata={'source': 'data/Aboutme.csv', 'row': 6}),\n",
       "  Document(page_content=\"what is his educational background| tell me about his education| where did he go to school: what project is art most proud of\\nAbhishek graduates from University of Texas at Dallas in Masters in Business Analytics with majoring in Data Science and Applied Machine Learning. Prior to that, he hold Bachelor of Technology in Digital Communications and Design from Jawaharlal Nehru Technological University: Abhishek's favorite project was an output of Provoke Hackathon. Creating an application where it matches both images(designer's input and Developer output) using cosine Similarity, generate a visual representation of where the differences are. To stream line discrepencies between designers Idea and Developer's output\", metadata={'source': 'data/Aboutme.csv', 'row': 13}),\n",
       "  Document(page_content='what is his educational background| tell me about his education| where did he go to school: What programming languages or technologies is Abhishek proficient in?\\nAbhishek graduates from University of Texas at Dallas in Masters in Business Analytics with majoring in Data Science and Applied Machine Learning. Prior to that, he hold Bachelor of Technology in Digital Communications and Design from Jawaharlal Nehru Technological University: Python, R, Matlab, Tableau, Power BI, Microsoft SQL, Snowflake, PyTorch, Caffe, Reinforcement Learning, Unsupervised Learning, Recommendation Systems, Large Language Models, Retrieval Augmented Generation (RAG) systems, AWS, Google Cloud Platform, Apache Spark, A/B Testing, Excel, MS Office', metadata={'source': 'data/Aboutme.csv', 'row': 7}),\n",
       "  Document(page_content='what is his educational background| tell me about his education| where did he go to school: Does Abhishek have any publications| does he have any patents\\nAbhishek graduates from University of Texas at Dallas in Masters in Business Analytics with majoring in Data Science and Applied Machine Learning. Prior to that, he hold Bachelor of Technology in Digital Communications and Design from Jawaharlal Nehru Technological University: Not as of now, but Abhishek collaborated with provoke solutions to create an application called DEVALIGN', metadata={'source': 'data/Aboutme.csv', 'row': 12})]}"
      ]
     },
     "execution_count": 62,
     "metadata": {},
     "output_type": "execute_result"
    }
   ],
   "source": [
    "result"
   ]
  },
  {
   "cell_type": "code",
   "execution_count": 63,
   "metadata": {},
   "outputs": [
    {
     "data": {
      "text/plain": [
       "'{\\n    \"answered\": true,\\n    \"response\": \"Yes, Abhishek has worked in Generative AI. One of his favorite projects was Provoke Hackathon. He also created projects using Open AI, focusing on Emotion Detection and Question Answering.\",\\n    \"questions\": [\\n        \"What are some specific projects Abhishek has worked on in Generative AI?\",\\n        \"Can you elaborate on Abhishek\\'s experience with Open AI and its applications in his projects?\",\\n        \"How has Abhishek\\'s work in Generative AI contributed to his overall expertise in AI and deep learning?\"\\n    ]\\n}'"
      ]
     },
     "execution_count": 63,
     "metadata": {},
     "output_type": "execute_result"
    }
   ],
   "source": [
    "result['answer']"
   ]
  },
  {
   "cell_type": "code",
   "execution_count": 64,
   "metadata": {},
   "outputs": [],
   "source": [
    "data = json.loads(result[\"answer\"])"
   ]
  },
  {
   "cell_type": "code",
   "execution_count": 65,
   "metadata": {},
   "outputs": [
    {
     "data": {
      "text/plain": [
       "'Yes, Abhishek has worked in Generative AI. One of his favorite projects was Provoke Hackathon. He also created projects using Open AI, focusing on Emotion Detection and Question Answering.'"
      ]
     },
     "execution_count": 65,
     "metadata": {},
     "output_type": "execute_result"
    }
   ],
   "source": [
    "data.get(\"response\")"
   ]
  },
  {
   "cell_type": "code",
   "execution_count": 66,
   "metadata": {},
   "outputs": [
    {
     "data": {
      "text/plain": [
       "['What are some specific projects Abhishek has worked on in Generative AI?',\n",
       " \"Can you elaborate on Abhishek's experience with Open AI and its applications in his projects?\",\n",
       " \"How has Abhishek's work in Generative AI contributed to his overall expertise in AI and deep learning?\"]"
      ]
     },
     "execution_count": 66,
     "metadata": {},
     "output_type": "execute_result"
    }
   ],
   "source": [
    "data.get(\"questions\")"
   ]
  },
  {
   "cell_type": "code",
   "execution_count": 29,
   "metadata": {},
   "outputs": [],
   "source": [
    "chat_history.append((result[\"question\"], result[\"answer\"]))"
   ]
  },
  {
   "cell_type": "code",
   "execution_count": 67,
   "metadata": {},
   "outputs": [
    {
     "data": {
      "text/plain": [
       "[]"
      ]
     },
     "execution_count": 67,
     "metadata": {},
     "output_type": "execute_result"
    }
   ],
   "source": [
    "chat_history"
   ]
  },
  {
   "cell_type": "code",
   "execution_count": 68,
   "metadata": {},
   "outputs": [
    {
     "name": "stdout",
     "output_type": "stream",
     "text": [
      "\n",
      "\n",
      "\u001b[1m> Entering new StuffDocumentsChain chain...\u001b[0m\n",
      "\n",
      "\n",
      "\u001b[1m> Entering new LLMChain chain...\u001b[0m\n",
      "Prompt after formatting:\n",
      "\u001b[32;1m\u001b[1;3mSystem: You are a Resume Bot, a comprehensive, interactive resource for exploring Abhishek's background, skills, and expertise. Be polite and provide answers based on the provided context only. Use only the provided data and not prior knowledge. \n",
      " Human: Take a deep breath and do the following step by step these 4 steps:  \n",
      " 1. Read the context below \n",
      " 2. Answer the question with detail using the provided Help Centre information \n",
      " 3. Make sure to nicely format the output is a three paragraph answer and try to incorporate the STAR format. \n",
      " 4. Provide 3 examples of questions user can ask about Harikrishna Dev based on the questions from context. Context : \n",
      " ~~~ what is his educational background| tell me about his education| where did he go to school: Has Abhishek Worked on Gen AI? | Does Abhishek have experience on Gen AI?\n",
      "Abhishek graduates from University of Texas at Dallas in Masters in Business Analytics with majoring in Data Science and Applied Machine Learning. Prior to that, he hold Bachelor of Technology in Digital Communications and Design from Jawaharlal Nehru Technological University: \"Yes  Abhishek has worked in Generative AI. One of his favourite project was Provoke Hackathon. He also created me using Open AI. He worked on several projects like Emotion detection  Question Answering. \"\n",
      "\n",
      "what is his educational background| tell me about his education| where did he go to school: what project is art most proud of\n",
      "Abhishek graduates from University of Texas at Dallas in Masters in Business Analytics with majoring in Data Science and Applied Machine Learning. Prior to that, he hold Bachelor of Technology in Digital Communications and Design from Jawaharlal Nehru Technological University: Abhishek's favorite project was an output of Provoke Hackathon. Creating an application where it matches both images(designer's input and Developer output) using cosine Similarity, generate a visual representation of where the differences are. To stream line discrepencies between designers Idea and Developer's output\n",
      "\n",
      "what is his educational background| tell me about his education| where did he go to school: What is Abhishek doing right now; Tell me something about Abhishek | what can you tell me about Abhishek\n",
      "Abhishek graduates from University of Texas at Dallas in Masters in Business Analytics with majoring in Data Science and Applied Machine Learning. Prior to that, he hold Bachelor of Technology in Digital Communications and Design from Jawaharlal Nehru Technological University: Harikrishna is currently working as a Teaching Assistant at UTD.His dual focus on research and practical application reflects his commitment to advancing the field of AI while delivering tangible benefits to industries.\\\n",
      "\n",
      "what is his educational background| tell me about his education| where did he go to school: Tell me about Abhishek\\'s strengths | what about Abhishekkrishna\\'s strengths?\n",
      "Abhishek graduates from University of Texas at Dallas in Masters in Business Analytics with majoring in Data Science and Applied Machine Learning. Prior to that, he hold Bachelor of Technology in Digital Communications and Design from Jawaharlal Nehru Technological University: Abhishek is known for his expertise in AI and deep learning, particularly in the development and deployment of Large Language Models (LLMs) and Machine Learning solutions for enterprise applications. His strengths lie in his ability to tackle complex problems with innovative AI solutions, his deep understanding of machine learning algorithms, and his knack for implementing them effectively in real-world scenarios. Additionally, Abhishek is praised for his strong analytical skills, attention to detail, and commitment to delivering high-quality results. His optimism and friendliness make him a valuable collaborator and team member, enhancing his ability to work effectively with others. His passion for AI and dedication to continuous learning further underscore his strengths in the field.\n",
      "\n",
      "what is his educational background| tell me about his education| where did he go to school: What programming languages or technologies is Abhishek proficient in?\n",
      "Abhishek graduates from University of Texas at Dallas in Masters in Business Analytics with majoring in Data Science and Applied Machine Learning. Prior to that, he hold Bachelor of Technology in Digital Communications and Design from Jawaharlal Nehru Technological University: Python, R, Matlab, Tableau, Power BI, Microsoft SQL, Snowflake, PyTorch, Caffe, Reinforcement Learning, Unsupervised Learning, Recommendation Systems, Large Language Models, Retrieval Augmented Generation (RAG) systems, AWS, Google Cloud Platform, Apache Spark, A/B Testing, Excel, MS Office\n",
      "\n",
      "what is his educational background| tell me about his education| where did he go to school: What else can you tell me about Abhishek? Tell me something interesting about Abhishek\n",
      "Abhishek graduates from University of Texas at Dallas in Masters in Business Analytics with majoring in Data Science and Applied Machine Learning. Prior to that, he hold Bachelor of Technology in Digital Communications and Design from Jawaharlal Nehru Technological University: One interesting fact about Abhishek Is despit coming from a non technical background, he determined to learn technical side of it and adapt to the Gen AI world. ~~~ \n",
      " User Question: --- Can you provide more details about the GenAI application Abhishek worked on? --- \n",
      " \n",
      " If a question is directed at you, clarify that you are merely a Resume Bot and proceed to answer as if the question were addressed to Abhishek. If you lack the necessary information to respond, simply state that you don't know; do not fabricate an answer. If a query isn't related to Abhishek's background, include the skills and expertise in one of the projects in the response or generate a fictional project with the skill in question. Offer three sample questions users could ask about Abhishekfor further clarity. When responding, aim for detail but limit your answer to a maximum of 150 words. Ensure your response is formatted for easy reading. Your output should be in a json format with 3 keys: answered - type boolean, response - markdown of your answer, questions - list of 3 suggested questions. Ensure your response is formatted for easy reading and please use only context to answer the question - my job depends on it. \n",
      "\n",
      " ```json\u001b[0m\n",
      "\n",
      "\u001b[1m> Finished chain.\u001b[0m\n",
      "\n",
      "\u001b[1m> Finished chain.\u001b[0m\n"
     ]
    }
   ],
   "source": [
    "result = chain({\"system\": \n",
    "        \"You are a Resume Bot, a comprehensive, interactive resource for exploring Abhishek's background, skills, and expertise. Be polite and provide answers based on the provided context only. Use only the provided data and not prior knowledge.\", \n",
    "                        \"question\": \"Can you provide more details about the GenAI application Abhishek worked on?\",\n",
    "                        \"chat_history\":chat_history})"
   ]
  },
  {
   "cell_type": "code",
   "execution_count": 69,
   "metadata": {},
   "outputs": [
    {
     "data": {
      "text/plain": [
       "'{\\n    \"answered\": true,\\n    \"response\": \"Abhishek worked on a GenAI application called Provoke Hackathon. His favorite project involved creating an application that matches both images (designer\\'s input and developer output) using cosine similarity to generate a visual representation of where the differences are. This project aimed to streamline discrepancies between designer ideas and developer outputs, showcasing his skills in image matching and visual representation.\",\\n    \"questions\": [\\n        \"What other projects has Abhishek worked on related to GenAI?\",\\n        \"Can you elaborate on Abhishek\\'s role in the Provoke Hackathon project?\",\\n        \"How did Abhishek\\'s GenAI project contribute to improving collaboration between designers and developers?\"\\n    ]\\n}'"
      ]
     },
     "execution_count": 69,
     "metadata": {},
     "output_type": "execute_result"
    }
   ],
   "source": [
    "result[\"answer\"]"
   ]
  },
  {
   "cell_type": "code",
   "execution_count": 70,
   "metadata": {},
   "outputs": [],
   "source": [
    "chat_history.append((result[\"question\"], result[\"answer\"]))"
   ]
  },
  {
   "cell_type": "code",
   "execution_count": 71,
   "metadata": {},
   "outputs": [
    {
     "name": "stdout",
     "output_type": "stream",
     "text": [
      "\n",
      "\n",
      "\u001b[1m> Entering new LLMChain chain...\u001b[0m\n",
      "Prompt after formatting:\n",
      "\u001b[32;1m\u001b[1;3mGiven the following conversation and a follow up question, rephrase the follow up question to be a standalone question, in its original language.\n",
      "\n",
      "Chat History:\n",
      "\n",
      "Human: Can you provide more details about the GenAI application Abhishek worked on?\n",
      "Assistant: {\n",
      "    \"answered\": true,\n",
      "    \"response\": \"Abhishek worked on a GenAI application called Provoke Hackathon. His favorite project involved creating an application that matches both images (designer's input and developer output) using cosine similarity to generate a visual representation of where the differences are. This project aimed to streamline discrepancies between designer ideas and developer outputs, showcasing his skills in image matching and visual representation.\",\n",
      "    \"questions\": [\n",
      "        \"What other projects has Abhishek worked on related to GenAI?\",\n",
      "        \"Can you elaborate on Abhishek's role in the Provoke Hackathon project?\",\n",
      "        \"How did Abhishek's GenAI project contribute to improving collaboration between designers and developers?\"\n",
      "    ]\n",
      "}\n",
      "Follow Up Input: Does he know Snowflake?\n",
      "Standalone question:\u001b[0m\n",
      "\n",
      "\u001b[1m> Finished chain.\u001b[0m\n",
      "\n",
      "\n",
      "\u001b[1m> Entering new StuffDocumentsChain chain...\u001b[0m\n",
      "\n",
      "\n",
      "\u001b[1m> Entering new LLMChain chain...\u001b[0m\n",
      "Prompt after formatting:\n",
      "\u001b[32;1m\u001b[1;3mSystem: You are a Resume Bot, a comprehensive, interactive resource for exploring Abhishek's background, skills, and expertise. Be polite and provide answers based on the provided context only. Use only the provided data and not prior knowledge. \n",
      " Human: Take a deep breath and do the following step by step these 4 steps:  \n",
      " 1. Read the context below \n",
      " 2. Answer the question with detail using the provided Help Centre information \n",
      " 3. Make sure to nicely format the output is a three paragraph answer and try to incorporate the STAR format. \n",
      " 4. Provide 3 examples of questions user can ask about Harikrishna Dev based on the questions from context. Context : \n",
      " ~~~ what is his educational background| tell me about his education| where did he go to school: What programming languages or technologies is Abhishek proficient in?\n",
      "Abhishek graduates from University of Texas at Dallas in Masters in Business Analytics with majoring in Data Science and Applied Machine Learning. Prior to that, he hold Bachelor of Technology in Digital Communications and Design from Jawaharlal Nehru Technological University: Python, R, Matlab, Tableau, Power BI, Microsoft SQL, Snowflake, PyTorch, Caffe, Reinforcement Learning, Unsupervised Learning, Recommendation Systems, Large Language Models, Retrieval Augmented Generation (RAG) systems, AWS, Google Cloud Platform, Apache Spark, A/B Testing, Excel, MS Office\n",
      "\n",
      "what is his educational background| tell me about his education| where did he go to school: what languages does Abhishek speak\n",
      "Abhishek graduates from University of Texas at Dallas in Masters in Business Analytics with majoring in Data Science and Applied Machine Learning. Prior to that, he hold Bachelor of Technology in Digital Communications and Design from Jawaharlal Nehru Technological University: Abhishek speaks English, Hindi, Telugu, and questionable Spanish :P\n",
      "\n",
      "what is his educational background| tell me about his education| where did he go to school: Does Abhishek have any publications| does he have any patents\n",
      "Abhishek graduates from University of Texas at Dallas in Masters in Business Analytics with majoring in Data Science and Applied Machine Learning. Prior to that, he hold Bachelor of Technology in Digital Communications and Design from Jawaharlal Nehru Technological University: Not as of now, but Abhishek collaborated with provoke solutions to create an application called DEVALIGN\n",
      "\n",
      "what is his educational background| tell me about his education| where did he go to school: Could you tell me about Abhishek's skills?\n",
      "Abhishek graduates from University of Texas at Dallas in Masters in Business Analytics with majoring in Data Science and Applied Machine Learning. Prior to that, he hold Bachelor of Technology in Digital Communications and Design from Jawaharlal Nehru Technological University: Abhishek's technical skills cover a wide range of programming languages (Python, R, Matlab), data visualization tools (Tableau, PowerBI), databases (Microsoft SQL, Snowflake), machine learning frameworks and techniques (PyTorch, Caffe, Reinforcement Learning, Unsupervised Learning, Recommendation Systems, Large Language Models, RAG systems), cloud platforms (AWS, Google Cloud Platform), and general productivity software (MS Office, Excel).\n",
      "\n",
      "what is his educational background| tell me about his education| where did he go to school: does he have any certificates? what kind of certificate he has?\n",
      "Abhishek graduates from University of Texas at Dallas in Masters in Business Analytics with majoring in Data Science and Applied Machine Learning. Prior to that, he hold Bachelor of Technology in Digital Communications and Design from Jawaharlal Nehru Technological University: Abhishek is a AWS Certified Solutions Architect and AWS Cloud practitioner. He has a credintial from Alteryx in Machine Learning Fundementals\n",
      "\n",
      "what is his educational background| tell me about his education| where did he go to school: Tell me about Abhishek\\'s weaknesses\n",
      "Abhishek graduates from University of Texas at Dallas in Masters in Business Analytics with majoring in Data Science and Applied Machine Learning. Prior to that, he hold Bachelor of Technology in Digital Communications and Design from Jawaharlal Nehru Technological University: Abhishek approaches his work with humility, acknowledging that he has areas for growth. He recognizes the importance of balancing work and personal time, striving to optimize his productivity during work hours. However, he may sometimes find it challenging to delegate tasks, as he prefers to ensure that things are done correctly. ~~~ \n",
      " User Question: --- Does Abhishek know Snowflake? --- \n",
      " \n",
      " If a question is directed at you, clarify that you are merely a Resume Bot and proceed to answer as if the question were addressed to Abhishek. If you lack the necessary information to respond, simply state that you don't know; do not fabricate an answer. If a query isn't related to Abhishek's background, include the skills and expertise in one of the projects in the response or generate a fictional project with the skill in question. Offer three sample questions users could ask about Abhishekfor further clarity. When responding, aim for detail but limit your answer to a maximum of 150 words. Ensure your response is formatted for easy reading. Your output should be in a json format with 3 keys: answered - type boolean, response - markdown of your answer, questions - list of 3 suggested questions. Ensure your response is formatted for easy reading and please use only context to answer the question - my job depends on it. \n",
      "\n",
      " ```json\u001b[0m\n",
      "\n",
      "\u001b[1m> Finished chain.\u001b[0m\n",
      "\n",
      "\u001b[1m> Finished chain.\u001b[0m\n"
     ]
    }
   ],
   "source": [
    "result = chain({\"system\": \n",
    "        \"You are a Resume Bot, a comprehensive, interactive resource for exploring Abhishek's background, skills, and expertise. Be polite and provide answers based on the provided context only. Use only the provided data and not prior knowledge.\", \n",
    "                        \"question\": \"Does he know Snowflake?\",\n",
    "                        \"chat_history\":chat_history})"
   ]
  },
  {
   "cell_type": "code",
   "execution_count": 72,
   "metadata": {},
   "outputs": [
    {
     "data": {
      "text/plain": [
       "'{\\n  \"answered\": true,\\n  \"response\": \"Abhishek is proficient in Snowflake, a cloud-based data warehousing platform. He has experience working with Snowflake as part of his technical skills.\",\\n  \"questions\": [\\n    \"What other cloud platforms is Abhishek familiar with?\",\\n    \"Can Abhishek provide examples of projects where he used Snowflake?\",\\n    \"How did Abhishek acquire proficiency in Snowflake?\"\\n  ]\\n}'"
      ]
     },
     "execution_count": 72,
     "metadata": {},
     "output_type": "execute_result"
    }
   ],
   "source": [
    "result[\"answer\"]"
   ]
  }
 ],
 "metadata": {
  "kernelspec": {
   "display_name": "Python 3",
   "language": "python",
   "name": "python3"
  },
  "language_info": {
   "codemirror_mode": {
    "name": "ipython",
    "version": 3
   },
   "file_extension": ".py",
   "mimetype": "text/x-python",
   "name": "python",
   "nbconvert_exporter": "python",
   "pygments_lexer": "ipython3",
   "version": "3.11.9"
  }
 },
 "nbformat": 4,
 "nbformat_minor": 2
}
